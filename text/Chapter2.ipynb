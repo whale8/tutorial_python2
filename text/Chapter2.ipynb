{
 "cells": [
  {
   "cell_type": "markdown",
   "metadata": {},
   "source": [
    "# Chapter2: 制御とデータ構造\n",
    "1. 制御\n",
    "2. 標準的なデータ構造\n",
    "    1. 文字列\n",
    "    2. リスト\n",
    "    3. 辞書\n",
    "3. 練習問題"
   ]
  },
  {
   "cell_type": "markdown",
   "metadata": {},
   "source": [
    "## 2-1. 制御\n",
    "\n",
    "#### ループ\n",
    "```python\n",
    "N = 10 # 繰り返す回数\n",
    "for i in range(N):\n",
    "    # 繰り返す処理\n",
    "\n",
    "while 条件:\n",
    "    # 条件が成立するときの処理\n",
    "```\n",
    "\n",
    "#### 条件分岐\n",
    "```python\n",
    "if 条件1:\n",
    "    # 条件1が成立しているときの処理\n",
    "elif 条件2:\n",
    "    # 条件1が成立せず，条件2が成立するときの処理\n",
    "else:\n",
    "    # 条件1も条件2も成立しないときの処理\n",
    "```\n",
    "\n"
   ]
  },
  {
   "cell_type": "markdown",
   "metadata": {},
   "source": [
    "## 2-2. 標準的なデータ構造\n",
    "\n",
    "### 2-2-1. 文字列"
   ]
  },
  {
   "cell_type": "code",
   "execution_count": 1,
   "metadata": {},
   "outputs": [
    {
     "name": "stdout",
     "output_type": "stream",
     "text": [
      "e\n",
      "5\n",
      "Hello world\n"
     ]
    }
   ],
   "source": [
    "s = 'Hello'\n",
    "print(s[1]) # indexを指定して，表示する\n",
    "print(len(s)) # 文字列sの長さを表示する\n",
    "print(s+' world') # 文字列を連結する"
   ]
  },
  {
   "cell_type": "code",
   "execution_count": 2,
   "metadata": {},
   "outputs": [
    {
     "ename": "TypeError",
     "evalue": "Can't convert 'float' object to str implicitly",
     "output_type": "error",
     "traceback": [
      "\u001b[0;31m---------------------------------------------------------------------------\u001b[0m",
      "\u001b[0;31mTypeError\u001b[0m                                 Traceback (most recent call last)",
      "\u001b[0;32m<ipython-input-2-46c1288cdcdd>\u001b[0m in \u001b[0;36m<module>\u001b[0;34m()\u001b[0m\n\u001b[0;32m----> 1\u001b[0;31m \u001b[0ms\u001b[0m \u001b[0;34m+\u001b[0m \u001b[0;36m1.5\u001b[0m \u001b[0;31m# 文字列と数値の和をとることはできない\u001b[0m\u001b[0;34m\u001b[0m\u001b[0m\n\u001b[0m",
      "\u001b[0;31mTypeError\u001b[0m: Can't convert 'float' object to str implicitly"
     ]
    }
   ],
   "source": [
    "s + 1.5 # 文字列と数値の和をとることはできない"
   ]
  },
  {
   "cell_type": "code",
   "execution_count": 3,
   "metadata": {},
   "outputs": [
    {
     "data": {
      "text/plain": [
       "'Hello1.5'"
      ]
     },
     "execution_count": 3,
     "metadata": {},
     "output_type": "execute_result"
    }
   ],
   "source": [
    "s + str(1.5) # キャストすることで連結ができる"
   ]
  },
  {
   "cell_type": "code",
   "execution_count": 4,
   "metadata": {},
   "outputs": [
    {
     "name": "stdout",
     "output_type": "stream",
     "text": [
      "HELLO\n",
      "hello\n",
      "ello\n"
     ]
    }
   ],
   "source": [
    "print(s.upper()) # すべて大文字にする\n",
    "print(s.lower()) # すべて小文字にする\n",
    "print(s[1:]) # 部分文字列"
   ]
  },
  {
   "cell_type": "code",
   "execution_count": 5,
   "metadata": {},
   "outputs": [
    {
     "name": "stdout",
     "output_type": "stream",
     "text": [
      "I never think of the future. \n",
      "It comes soon enough.\n"
     ]
    }
   ],
   "source": [
    "text = \"\"\"I never think of the future. \n",
    "It comes soon enough.\"\"\"\n",
    "# このように文字列を定義すると複数行でも扱える\n",
    "print(text)"
   ]
  },
  {
   "cell_type": "code",
   "execution_count": 6,
   "metadata": {},
   "outputs": [
    {
     "name": "stdout",
     "output_type": "stream",
     "text": [
      "['I', 'never', 'think', 'of', 'the', 'future.', '\\nIt', 'comes', 'soon', 'enough.']\n"
     ]
    }
   ],
   "source": [
    "print(text.split(' '))# スペースで分割する"
   ]
  },
  {
   "cell_type": "markdown",
   "metadata": {},
   "source": [
    "### 2-2-2. リスト"
   ]
  },
  {
   "cell_type": "code",
   "execution_count": 7,
   "metadata": {},
   "outputs": [
    {
     "name": "stdout",
     "output_type": "stream",
     "text": [
      "USA\n",
      "UK\n",
      "Japan\n",
      "USA\n",
      "UK\n",
      "Japan\n"
     ]
    }
   ],
   "source": [
    "countries = ['USA', 'UK', 'Japan']\n",
    "for i in range(3):\n",
    "    print(countries[i]) # indexを指定して値を表示\n",
    "\n",
    "for country in countries:\n",
    "    print(country) # リストの要素を引き出すことができる"
   ]
  },
  {
   "cell_type": "code",
   "execution_count": 8,
   "metadata": {},
   "outputs": [
    {
     "name": "stdout",
     "output_type": "stream",
     "text": [
      "3\n",
      "OK\n"
     ]
    }
   ],
   "source": [
    "print(len(countries)) # リストの長さ\n",
    "if 'USA' in countries: # 'USA'がcountriesの中にある場合\n",
    "    print('OK') \n",
    "else:\n",
    "    print('NG')"
   ]
  },
  {
   "cell_type": "markdown",
   "metadata": {},
   "source": [
    "#### リストのメソッド\n",
    "- append\n",
    "- sort\n",
    "- remove"
   ]
  },
  {
   "cell_type": "code",
   "execution_count": 9,
   "metadata": {},
   "outputs": [
    {
     "name": "stdout",
     "output_type": "stream",
     "text": [
      "['USA', 'UK', 'Japan', 'China']\n",
      "1\n",
      "['UK', 'Japan']\n",
      "['China', 'Japan', 'UK', 'USA']\n",
      "['China', 'Japan', 'USA']\n"
     ]
    }
   ],
   "source": [
    "countries = ['USA', 'UK', 'Japan']\n",
    "countries.append('China') # リストに追加\n",
    "print(countries)\n",
    "print(countries.index('UK')) # indexを求める\n",
    "print(countries[1:-1]) # 部分リストを表示\n",
    "\n",
    "countries.sort() # 辞書順にソート\n",
    "print(countries)\n",
    "\n",
    "countries.remove('UK') # リストにある値を消去\n",
    "print(countries)"
   ]
  },
  {
   "cell_type": "markdown",
   "metadata": {},
   "source": [
    "#### 内包表現\n",
    "```python\n",
    "array = [i for i in range(N)] # 0からN-1までのリストを作る\n",
    "```"
   ]
  },
  {
   "cell_type": "code",
   "execution_count": 10,
   "metadata": {},
   "outputs": [
    {
     "name": "stdout",
     "output_type": "stream",
     "text": [
      "0から9までのリスト:  [0, 1, 2, 3, 4, 5, 6, 7, 8, 9]\n",
      "奇数のリスト:  [1, 3, 5, 7, 9]\n"
     ]
    }
   ],
   "source": [
    "array = [i for i in range(10)]\n",
    "print(\"0から9までのリスト: \", array)\n",
    "\n",
    "odd_array = [x for x in array if x%2 != 0]\n",
    "print(\"奇数のリスト: \", odd_array)"
   ]
  },
  {
   "cell_type": "markdown",
   "metadata": {},
   "source": [
    "#### 注意点: 参照渡しと値渡し\n",
    "リストの値が渡されるのではなく，参照が渡される．   \n",
    "コピーする時は気をつけてコピーする必要がある．  \n",
    "\n",
    "参考資料: [Pythonでリストの深いコピー](http://eibiisii.hateblo.jp/entry/2014/07/09/235438)"
   ]
  },
  {
   "cell_type": "code",
   "execution_count": 11,
   "metadata": {},
   "outputs": [
    {
     "name": "stdout",
     "output_type": "stream",
     "text": [
      "['China', 'Japan']\n",
      "['China', 'Japan']\n"
     ]
    }
   ],
   "source": [
    "b = countries # 参照をコピーする\n",
    "b.pop() # bにのみ変更を加える\n",
    "print(b)\n",
    "print(countries) # countriesにも影響がある"
   ]
  },
  {
   "cell_type": "code",
   "execution_count": 12,
   "metadata": {},
   "outputs": [
    {
     "name": "stdout",
     "output_type": "stream",
     "text": [
      "['China']\n",
      "['China', 'Japan']\n"
     ]
    }
   ],
   "source": [
    "a = countries[:] # 参照ではなく，値をコピーする\n",
    "a.pop() # aにのみ変更を加える\n",
    "print(a)\n",
    "print(countries)"
   ]
  },
  {
   "cell_type": "code",
   "execution_count": 13,
   "metadata": {},
   "outputs": [
    {
     "name": "stdout",
     "output_type": "stream",
     "text": [
      "obj   : 4536566472\n",
      "copied: 4536551816\n"
     ]
    }
   ],
   "source": [
    "# 深いコピーの例\n",
    "import copy\n",
    "obj = [{'a': 10}]\n",
    "deepcopied = copy.deepcopy(obj)\n",
    "print('obj   :', id(obj[0]))\n",
    "print('copied:', id(deepcopied[0]))"
   ]
  },
  {
   "cell_type": "markdown",
   "metadata": {},
   "source": [
    "### 2-2-3. 辞書\n",
    "Pythonにおける連想配列を「辞書」と呼ぶ．  \n",
    "keyとvalueをペアにして保存するデータ構造である．"
   ]
  },
  {
   "cell_type": "code",
   "execution_count": 14,
   "metadata": {},
   "outputs": [
    {
     "name": "stdout",
     "output_type": "stream",
     "text": [
      "{'a': 'art', 'c': 'circuit', 'b': 'beam'}\n"
     ]
    }
   ],
   "source": [
    "d = {}\n",
    "d['a'] = 'art' # dict[key] = value という形で辞書に追加\n",
    "d['b'] = 'beam'\n",
    "d['c'] = 'circuit'\n",
    "print(d)"
   ]
  },
  {
   "cell_type": "code",
   "execution_count": 15,
   "metadata": {},
   "outputs": [
    {
     "name": "stdout",
     "output_type": "stream",
     "text": [
      "art\n",
      "art\n"
     ]
    }
   ],
   "source": [
    "print(d.get('a')) # dからkeyが'a'となるものを取り出す\n",
    "print(d['a']) # dからkeyが'a'となるものを取り出す(2)"
   ]
  },
  {
   "cell_type": "code",
   "execution_count": 16,
   "metadata": {},
   "outputs": [
    {
     "name": "stdout",
     "output_type": "stream",
     "text": [
      "dict_keys(['a', 'c', 'b'])\n",
      "dict_values(['art', 'circuit', 'beam'])\n"
     ]
    }
   ],
   "source": [
    "print(d.keys()) # keyのリスト\n",
    "print(d.values()) # valueのリスト"
   ]
  },
  {
   "cell_type": "code",
   "execution_count": 17,
   "metadata": {},
   "outputs": [
    {
     "name": "stdout",
     "output_type": "stream",
     "text": [
      "a:art\n",
      "c:circuit\n",
      "b:beam\n"
     ]
    }
   ],
   "source": [
    "for key, value in d.items():\n",
    "    print(key + ':' + value)"
   ]
  },
  {
   "cell_type": "code",
   "execution_count": 18,
   "metadata": {},
   "outputs": [
    {
     "name": "stdout",
     "output_type": "stream",
     "text": [
      "{'a': 'art', 'c': 'circuit'}\n"
     ]
    }
   ],
   "source": [
    "del d['b'] # keyが'b'となるエントリを消す\n",
    "print(d)"
   ]
  },
  {
   "cell_type": "markdown",
   "metadata": {
    "collapsed": true
   },
   "source": [
    "## 2-3. [練習問題](./../exercise/questions.md#chapter-2)"
   ]
  }
 ],
 "metadata": {
  "kernelspec": {
   "display_name": "Python 3",
   "language": "python",
   "name": "python3"
  },
  "language_info": {
   "codemirror_mode": {
    "name": "ipython",
    "version": 3
   },
   "file_extension": ".py",
   "mimetype": "text/x-python",
   "name": "python",
   "nbconvert_exporter": "python",
   "pygments_lexer": "ipython3",
   "version": "3.6.9"
  }
 },
 "nbformat": 4,
 "nbformat_minor": 2
}
