{
 "cells": [
  {
   "cell_type": "code",
   "execution_count": 1,
   "metadata": {},
   "outputs": [],
   "source": [
    "import warnings\n",
    "warnings.filterwarnings('ignore') # 実行に影響のない　warninig　を非表示にします. 非推奨."
   ]
  },
  {
   "cell_type": "markdown",
   "metadata": {},
   "source": [
    "# Chapter 5: 機械学習 回帰問題"
   ]
  },
  {
   "cell_type": "markdown",
   "metadata": {},
   "source": [
    "## 5-1. 回帰問題を Pythonで解いてみよう\n",
    "\n",
    "1. データセットの用意\n",
    "2. モデル構築"
   ]
  },
  {
   "cell_type": "markdown",
   "metadata": {},
   "source": [
    "### 5-1-1. データセットの用意\n",
    "今回はwine-quality datasetを用いる.  \n",
    "wine-quality dataset はワインのアルコール濃度や品質などの12要素の数値データ.  \n",
    "赤ワインと白ワイン両方あります。赤ワインの含まれるデータ数は1600ほど.   \n",
    "まずはデータセットをダウンロードする.  \n",
    "proxy下ではjupyter notebookに設定をしないと以下は動作しない.  "
   ]
  },
  {
   "cell_type": "code",
   "execution_count": 2,
   "metadata": {},
   "outputs": [
    {
     "name": "stdout",
     "output_type": "stream",
     "text": [
      "--2019-10-17 14:59:12--  https://archive.ics.uci.edu/ml/machine-learning-databases/wine-quality/winequality-red.csv\n",
      "archive.ics.uci.edu (archive.ics.uci.edu) をDNSに問いあわせています... 128.195.10.252\n",
      "archive.ics.uci.edu (archive.ics.uci.edu)|128.195.10.252|:443 に接続しています... ^C\n"
     ]
    }
   ],
   "source": [
    "! wget https://archive.ics.uci.edu/ml/machine-learning-databases/wine-quality/winequality-red.csv ./data/winequality-red.csv"
   ]
  },
  {
   "cell_type": "markdown",
   "metadata": {},
   "source": [
    "jupyter notebook の設定が面倒な人へ.  \n",
    "proxyの設定をしたshell、もしくはブラウザなどで以下のURIからダウンロードしてください.  \n",
    "https://archive.ics.uci.edu/ml/machine-learning-databases/wine-quality/"
   ]
  },
  {
   "cell_type": "code",
   "execution_count": 25,
   "metadata": {},
   "outputs": [
    {
     "data": {
      "text/html": [
       "<div>\n",
       "<style scoped>\n",
       "    .dataframe tbody tr th:only-of-type {\n",
       "        vertical-align: middle;\n",
       "    }\n",
       "\n",
       "    .dataframe tbody tr th {\n",
       "        vertical-align: top;\n",
       "    }\n",
       "\n",
       "    .dataframe thead th {\n",
       "        text-align: right;\n",
       "    }\n",
       "</style>\n",
       "<table border=\"1\" class=\"dataframe\">\n",
       "  <thead>\n",
       "    <tr style=\"text-align: right;\">\n",
       "      <th></th>\n",
       "      <th>fixed acidity</th>\n",
       "      <th>volatile acidity</th>\n",
       "      <th>citric acid</th>\n",
       "      <th>residual sugar</th>\n",
       "      <th>chlorides</th>\n",
       "      <th>free sulfur dioxide</th>\n",
       "      <th>total sulfur dioxide</th>\n",
       "      <th>density</th>\n",
       "      <th>pH</th>\n",
       "      <th>sulphates</th>\n",
       "      <th>alcohol</th>\n",
       "      <th>quality</th>\n",
       "    </tr>\n",
       "  </thead>\n",
       "  <tbody>\n",
       "    <tr>\n",
       "      <th>0</th>\n",
       "      <td>7.4</td>\n",
       "      <td>0.70</td>\n",
       "      <td>0.00</td>\n",
       "      <td>1.9</td>\n",
       "      <td>0.076</td>\n",
       "      <td>11.0</td>\n",
       "      <td>34.0</td>\n",
       "      <td>0.9978</td>\n",
       "      <td>3.51</td>\n",
       "      <td>0.56</td>\n",
       "      <td>9.4</td>\n",
       "      <td>5</td>\n",
       "    </tr>\n",
       "    <tr>\n",
       "      <th>1</th>\n",
       "      <td>7.8</td>\n",
       "      <td>0.88</td>\n",
       "      <td>0.00</td>\n",
       "      <td>2.6</td>\n",
       "      <td>0.098</td>\n",
       "      <td>25.0</td>\n",
       "      <td>67.0</td>\n",
       "      <td>0.9968</td>\n",
       "      <td>3.20</td>\n",
       "      <td>0.68</td>\n",
       "      <td>9.8</td>\n",
       "      <td>5</td>\n",
       "    </tr>\n",
       "    <tr>\n",
       "      <th>2</th>\n",
       "      <td>7.8</td>\n",
       "      <td>0.76</td>\n",
       "      <td>0.04</td>\n",
       "      <td>2.3</td>\n",
       "      <td>0.092</td>\n",
       "      <td>15.0</td>\n",
       "      <td>54.0</td>\n",
       "      <td>0.9970</td>\n",
       "      <td>3.26</td>\n",
       "      <td>0.65</td>\n",
       "      <td>9.8</td>\n",
       "      <td>5</td>\n",
       "    </tr>\n",
       "    <tr>\n",
       "      <th>3</th>\n",
       "      <td>11.2</td>\n",
       "      <td>0.28</td>\n",
       "      <td>0.56</td>\n",
       "      <td>1.9</td>\n",
       "      <td>0.075</td>\n",
       "      <td>17.0</td>\n",
       "      <td>60.0</td>\n",
       "      <td>0.9980</td>\n",
       "      <td>3.16</td>\n",
       "      <td>0.58</td>\n",
       "      <td>9.8</td>\n",
       "      <td>6</td>\n",
       "    </tr>\n",
       "    <tr>\n",
       "      <th>4</th>\n",
       "      <td>7.4</td>\n",
       "      <td>0.70</td>\n",
       "      <td>0.00</td>\n",
       "      <td>1.9</td>\n",
       "      <td>0.076</td>\n",
       "      <td>11.0</td>\n",
       "      <td>34.0</td>\n",
       "      <td>0.9978</td>\n",
       "      <td>3.51</td>\n",
       "      <td>0.56</td>\n",
       "      <td>9.4</td>\n",
       "      <td>5</td>\n",
       "    </tr>\n",
       "  </tbody>\n",
       "</table>\n",
       "</div>"
      ],
      "text/plain": [
       "   fixed acidity  volatile acidity  citric acid  residual sugar  chlorides  \\\n",
       "0            7.4              0.70         0.00             1.9      0.076   \n",
       "1            7.8              0.88         0.00             2.6      0.098   \n",
       "2            7.8              0.76         0.04             2.3      0.092   \n",
       "3           11.2              0.28         0.56             1.9      0.075   \n",
       "4            7.4              0.70         0.00             1.9      0.076   \n",
       "\n",
       "   free sulfur dioxide  total sulfur dioxide  density    pH  sulphates  \\\n",
       "0                 11.0                  34.0   0.9978  3.51       0.56   \n",
       "1                 25.0                  67.0   0.9968  3.20       0.68   \n",
       "2                 15.0                  54.0   0.9970  3.26       0.65   \n",
       "3                 17.0                  60.0   0.9980  3.16       0.58   \n",
       "4                 11.0                  34.0   0.9978  3.51       0.56   \n",
       "\n",
       "   alcohol  quality  \n",
       "0      9.4        5  \n",
       "1      9.8        5  \n",
       "2      9.8        5  \n",
       "3      9.8        6  \n",
       "4      9.4        5  "
      ]
     },
     "metadata": {},
     "output_type": "display_data"
    }
   ],
   "source": [
    "import pandas as pd\n",
    "wine = pd.read_csv(\"./data/winequality-red.csv\", sep=\";\") # sepは区切り文字の指定\n",
    "display(wine.head(5))"
   ]
  },
  {
   "cell_type": "markdown",
   "metadata": {},
   "source": [
    "まずは説明変数１つで回帰を行ってみよう. 今回はalcoholを目的変数 $t$ に, densityを説明変数 $x$ にする."
   ]
  },
  {
   "cell_type": "code",
   "execution_count": 152,
   "metadata": {},
   "outputs": [],
   "source": [
    "X = wine[[\"density\"]].values\n",
    "T = wine[\"alcohol\"].values"
   ]
  },
  {
   "cell_type": "markdown",
   "metadata": {},
   "source": [
    "#### 前処理\n",
    "データを扱いやすいように中心化する."
   ]
  },
  {
   "cell_type": "code",
   "execution_count": 153,
   "metadata": {},
   "outputs": [],
   "source": [
    "X = X - X.mean()\n",
    "T = T - T.mean()"
   ]
  },
  {
   "cell_type": "markdown",
   "metadata": {},
   "source": [
    "trainとtestに分割する."
   ]
  },
  {
   "cell_type": "code",
   "execution_count": 154,
   "metadata": {},
   "outputs": [],
   "source": [
    "X_train = X[:1000, :]\n",
    "T_train = T[:1000]\n",
    "X_test = X[1000:, :]\n",
    "T_test = T[1000:]"
   ]
  },
  {
   "cell_type": "code",
   "execution_count": 155,
   "metadata": {},
   "outputs": [
    {
     "data": {
      "image/png": "[encoded data removed]",
      "text/plain": [
       "<Figure size 864x288 with 2 Axes>"
      ]
     },
     "metadata": {
      "needs_background": "light"
     },
     "output_type": "display_data"
    }
   ],
   "source": [
    "import matplotlib.pyplot as plt\n",
    "%matplotlib inline\n",
    "\n",
    "fig, axes = plt.subplots(ncols=2, figsize=(12, 4))\n",
    "\n",
    "axes[0].scatter(X_train, T_train, marker=\".\")\n",
    "axes[0].set_title(\"train\")\n",
    "axes[1].scatter(X_test, T_test, marker=\".\")\n",
    "axes[1].set_title(\"test\")\n",
    "fig.show()"
   ]
  },
  {
   "cell_type": "markdown",
   "metadata": {},
   "source": [
    "train と test の分布がかなり違う.  \n",
    "予め shuffle して train と test に分割する必要があるようだ.  \n",
    "XとTの対応関係を崩さず shuffle する方法は多々あるが、その１つが以下."
   ]
  },
  {
   "cell_type": "code",
   "execution_count": 156,
   "metadata": {},
   "outputs": [],
   "source": [
    "import numpy as np\n",
    "\n",
    "np.random.seed(0) # random　の挙動を固定\n",
    "\n",
    "p = np.random.permutation(len(X)) # random　な　index のリスト\n",
    "X = X[p]\n",
    "T = T[p]"
   ]
  },
  {
   "cell_type": "code",
   "execution_count": 157,
   "metadata": {},
   "outputs": [],
   "source": [
    "X_train = X[:1000, :]\n",
    "T_train = T[:1000]\n",
    "X_test = X[1000:, :]\n",
    "T_test = T[1000:]"
   ]
  },
  {
   "cell_type": "code",
   "execution_count": 158,
   "metadata": {},
   "outputs": [
    {
     "data": {
      "image/png": "[encoded data removed]",
      "text/plain": [
       "<Figure size 864x288 with 2 Axes>"
      ]
     },
     "metadata": {
      "needs_background": "light"
     },
     "output_type": "display_data"
    }
   ],
   "source": [
    "fig, axes = plt.subplots(ncols=2, figsize=(12, 4))\n",
    "\n",
    "axes[0].scatter(X_train, T_train, marker=\".\")\n",
    "axes[0].set_title(\"train\")\n",
    "axes[1].scatter(X_test, T_test, marker=\".\")\n",
    "axes[1].set_title(\"test\")\n",
    "fig.show()"
   ]
  },
  {
   "cell_type": "markdown",
   "metadata": {},
   "source": [
    "### 5-1-2. モデルの構築"
   ]
  },
  {
   "cell_type": "markdown",
   "metadata": {},
   "source": [
    "**今回は**, 目的変数 $t$ を以下の回帰関数で予測する.\n",
    "$$y=ax+b$$\n",
    "この時、損失が最小になるように, パラメータ$a,b$を定める必要がある. ここでは二乗損失関数を用いる.\n",
    "$$\\mathrm{L}\\left(a, b\\right)\n",
    "=\\sum^{N}_{n=1}\\left(t_n - y_n\\right)^2\n",
    "=\\sum^{N}_{n=1}\\left(t_n - ax_x-b\\right)^2$$\n",
    "\n",
    "<span style=\"color: gray; \">※これは, 目的変数 $t$ が上記の回帰関数 $y$ を中心としたガウス分布に従うという仮定を置いて最尤推定することと等価.</span>　"
   ]
  },
  {
   "cell_type": "code",
   "execution_count": null,
   "metadata": {},
   "outputs": [],
   "source": [
    "class MyLinearRegression(object):\n",
    "    def __init__(self):\n",
    "        \"\"\"\n",
    "        Initialize a coefficient and an intercept.\n",
    "        \"\"\"\n",
    "        self.a = \n",
    "        self.b = \n",
    "        \n",
    "    def fit(self, X, y):\n",
    "        \"\"\"\n",
    "        X: data, array-like, shape (n_samples, n_features)\n",
    "        y: array, shape (n_samples,)\n",
    "        Estimate a coefficient and an intercept　from data.\n",
    "        \"\"\"\n",
    "        return self\n",
    "    \n",
    "    def predict(self, X):\n",
    "        \"\"\"\n",
    "        Calc y from X\n",
    "        \"\"\"\n",
    "        return y"
   ]
  },
  {
   "cell_type": "markdown",
   "metadata": {},
   "source": [
    "上記の単回帰のクラスを完成させ, 以下の実行によって図の回帰直線が得られるはずだ."
   ]
  },
  {
   "cell_type": "code",
   "execution_count": 160,
   "metadata": {},
   "outputs": [
    {
     "name": "stdout",
     "output_type": "stream",
     "text": [
      "係数:  [-288.60241658]\n",
      "切片:  0.03280215630403101\n"
     ]
    },
    {
     "data": {
      "image/png": "[encoded data removed]",
      "text/plain": [
       "<Figure size 864x288 with 2 Axes>"
      ]
     },
     "metadata": {
      "needs_background": "light"
     },
     "output_type": "display_data"
    }
   ],
   "source": [
    "clf = MyLinearRegression()\n",
    "clf.fit(X_train, T_train)\n",
    "# 回帰係数\n",
    "print(\"係数: \", clf.a)\n",
    "# 切片\n",
    "print(\"切片: \", clf.b)\n",
    "\n",
    "fig, axes = plt.subplots(ncols=2, figsize=(12, 4))\n",
    "\n",
    "axes[0].scatter(X_train, T_train, marker=\".\")\n",
    "axes[0].plot(X_train, clf.predict(X_train), color=\"red\")\n",
    "axes[0].set_title(\"train\")\n",
    "\n",
    "axes[1].scatter(X_test, T_test, marker=\".\")\n",
    "axes[1].plot(X_test, clf.predict(X_test), color=\"red\")\n",
    "axes[1].set_title(\"test\")\n",
    "fig.show()"
   ]
  },
  {
   "cell_type": "markdown",
   "metadata": {},
   "source": [
    "もしdatasetをshuffleせずに上記の学習を行った時, 得られる回帰直線はどうなるだろう？  \n",
    "試してみてください."
   ]
  },
  {
   "cell_type": "markdown",
   "metadata": {},
   "source": [
    "## 5-2. scikit-learnについて\n",
    "### 5-2-1. モジュールの概要\n",
    "[scikit-learn](http://scikit-learn.org/stable/)のホームページに詳しい情報がある． \n",
    "\n",
    "実は scikit-learn に線形回帰のモジュールがすでにある.  \n",
    "\n",
    "#### scikit-learn の特徴\n",
    "- scikit-learn(sklearn)には，多くの機械学習アルゴリズムが入っており，統一した形式で書かれているため利用しやすい．\n",
    "- 各手法をコードで理解するだけでなく，その元となる論文も紹介されている．\n",
    "- チュートリアルやどのように利用するのかをまとめたページもあり，似た手法が列挙されている．"
   ]
  },
  {
   "cell_type": "code",
   "execution_count": 161,
   "metadata": {},
   "outputs": [
    {
     "name": "stdout",
     "output_type": "stream",
     "text": [
      "0.21.2\n"
     ]
    }
   ],
   "source": [
    "import sklearn\n",
    "print(sklearn.__version__)"
   ]
  },
  {
   "cell_type": "code",
   "execution_count": 162,
   "metadata": {},
   "outputs": [
    {
     "name": "stdout",
     "output_type": "stream",
     "text": [
      "係数:  [-288.60241658]\n",
      "切片:  0.03280215630403101\n",
      "決定係数:  0.24728357072544427\n"
     ]
    },
    {
     "data": {
      "image/png": "[encoded data removed]",
      "text/plain": [
       "<Figure size 864x288 with 2 Axes>"
      ]
     },
     "metadata": {
      "needs_background": "light"
     },
     "output_type": "display_data"
    }
   ],
   "source": [
    "from sklearn.linear_model import LinearRegression\n",
    "clf = LinearRegression()\n",
    "\n",
    "# 予測モデルを作成\n",
    "clf.fit(X_train, T_train)\n",
    " \n",
    "# 回帰係数\n",
    "print(\"係数: \", clf.coef_)\n",
    " \n",
    "# 切片\n",
    "print(\"切片: \", clf.intercept_)\n",
    " \n",
    "# 決定係数\n",
    "print(\"決定係数: \", clf.score(X_train, T_train))\n",
    "\n",
    "fig, axes = plt.subplots(ncols=2, figsize=(12, 4))\n",
    "\n",
    "axes[0].scatter(X_train, T_train, marker=\".\")\n",
    "axes[0].plot(X_train, clf.predict(X_train), color=\"red\")\n",
    "axes[0].set_title(\"train\")\n",
    "\n",
    "axes[1].scatter(X_test, T_test, marker=\".\")\n",
    "axes[1].plot(X_test, clf.predict(X_test), color=\"red\")\n",
    "axes[1].set_title(\"test\")\n",
    "fig.show()"
   ]
  },
  {
   "cell_type": "markdown",
   "metadata": {},
   "source": [
    "自分のコードと同じ結果が出ただろうか？  \n",
    "また, データを shuffle せず得られた回帰直線のスコアと, shuffleした時の回帰直線のスコアの比較もしてみよう."
   ]
  },
  {
   "cell_type": "markdown",
   "metadata": {},
   "source": [
    "scikit-learn の linear regression のコードは [github][1] で公開されている.  \n",
    "コーディングの参考になると思うので眺めてみるといいだろう.  \n",
    "\n",
    "### 5-2-2. 回帰モデルの評価  \n",
    "性能を測るといっても，その目的によって指標を変える必要がある.   \n",
    "どのような問題で，どのような指標を用いることが一般的か？という問いに対しては，先行研究を確認することを勧める．  \n",
    "また，指標それぞれの特性(数学的な意味)を知っていることもその役に立つだろう．\n",
    "[参考][2]  \n",
    "\n",
    "回帰モデルの評価に用いられる指標は一般にMAE, MSE, 決定係数などが存在する.\n",
    "\n",
    "1. MAE\n",
    "2. MSE\n",
    "3. 決定係数\n",
    "\n",
    "scikit-learn はこれらの計算をするモジュールも用意されている.\n",
    "\n",
    "[1]:https://github.com/scikit-learn/scikit-learn/blob/1495f69242646d239d89a5713982946b8ffcf9d9/sklearn/linear_model/base.py#L367\n",
    "[2]:https://scikit-learn.org/stable/modules/model_evaluation.html"
   ]
  },
  {
   "cell_type": "code",
   "execution_count": 165,
   "metadata": {},
   "outputs": [
    {
     "name": "stdout",
     "output_type": "stream",
     "text": [
      "MAE:  0.7218845932275127\n",
      "MSE:  0.7810900781645986\n",
      "決定係数:  0.23604463330510206\n"
     ]
    }
   ],
   "source": [
    "from sklearn import metrics\n",
    "\n",
    "T_pred = clf.predict(X_test)\n",
    "print(\"MAE: \", metrics.mean_absolute_error(T_test, T_pred))\n",
    "print(\"MSE: \", metrics.mean_squared_error(T_test, T_pred))\n",
    "print(\"決定係数: \", metrics.r2_score(T_test, T_pred))"
   ]
  },
  {
   "cell_type": "markdown",
   "metadata": {},
   "source": [
    "### 5-2-3. scikit-learn の他モデルを使ってみよう"
   ]
  },
  {
   "cell_type": "code",
   "execution_count": 166,
   "metadata": {},
   "outputs": [
    {
     "name": "stdout",
     "output_type": "stream",
     "text": [
      "[5.1 3.5 1.4 0.2] 0\n"
     ]
    }
   ],
   "source": [
    "# 1. データセットを用意する\n",
    "from sklearn import datasets\n",
    "iris = datasets.load_iris() # ここではIrisデータセットを読み込む\n",
    "print(iris.data[0], iris.target[0]) # 1番目のサンプルのデータとラベル"
   ]
  },
  {
   "cell_type": "code",
   "execution_count": 167,
   "metadata": {},
   "outputs": [
    {
     "data": {
      "text/plain": [
       "LinearSVC(C=1.0, class_weight=None, dual=True, fit_intercept=True,\n",
       "          intercept_scaling=1, loss='squared_hinge', max_iter=1000,\n",
       "          multi_class='ovr', penalty='l2', random_state=None, tol=0.0001,\n",
       "          verbose=0)"
      ]
     },
     "execution_count": 167,
     "metadata": {},
     "output_type": "execute_result"
    }
   ],
   "source": [
    "# 2.学習用データとテスト用データに分割する\n",
    "from sklearn.model_selection import train_test_split\n",
    "X_train, X_test, y_train, y_test = train_test_split(iris.data, iris.target)\n",
    "\n",
    "# 3. 線形SVMという手法を用いて分類する\n",
    "from sklearn.svm import SVC, LinearSVC\n",
    "clf = LinearSVC()\n",
    "clf.fit(X_train, y_train) # 学習"
   ]
  },
  {
   "cell_type": "code",
   "execution_count": 168,
   "metadata": {},
   "outputs": [
    {
     "name": "stdout",
     "output_type": "stream",
     "text": [
      "              precision    recall  f1-score   support\n",
      "\n",
      "           0       1.00      1.00      1.00        10\n",
      "           1       1.00      0.92      0.96        12\n",
      "           2       0.94      1.00      0.97        16\n",
      "\n",
      "    accuracy                           0.97        38\n",
      "   macro avg       0.98      0.97      0.98        38\n",
      "weighted avg       0.98      0.97      0.97        38\n",
      "\n"
     ]
    }
   ],
   "source": [
    "# 4. 分類器の性能を測る\n",
    "y_pred = clf.predict(X_test) # 予測\n",
    "print(metrics.classification_report(y_true=y_test, y_pred=y_pred)) # 予測結果の評価"
   ]
  },
  {
   "cell_type": "markdown",
   "metadata": {},
   "source": [
    "### 5-2-4. 分類モデルの評価\n",
    "\n",
    "分類問題に対する指標について考えてみよう．一般的な指標だけでも以下の4つがある．\n",
    "1. 正解率(accuracy)\n",
    "2. 精度(precision)\n",
    "3. 再現率(recall)\n",
    "4. F値(F1-score)\n",
    "\n",
    "（精度，再現率，F値にはmacro, micro, weightedなどがある）\n",
    "\n",
    "今回の実験でのそれぞれの値を見てみよう．"
   ]
  },
  {
   "cell_type": "code",
   "execution_count": 169,
   "metadata": {},
   "outputs": [
    {
     "name": "stdout",
     "output_type": "stream",
     "text": [
      "accuracy:  0.9736842105263158\n",
      "precision: 0.9803921568627452\n",
      "recall:    0.9722222222222222\n",
      "F1 score:  0.9754062362758015\n"
     ]
    }
   ],
   "source": [
    "print('accuracy: ', metrics.accuracy_score(y_test, y_pred))\n",
    "print('precision:', metrics.precision_score(y_test, y_pred, average='macro'))\n",
    "print('recall:   ', metrics.recall_score(y_test, y_pred, average='macro'))\n",
    "print('F1 score: ', metrics.f1_score(y_test, y_pred, average='macro'))"
   ]
  },
  {
   "cell_type": "markdown",
   "metadata": {},
   "source": [
    "## 5-3. 問題に合わせたコーディング"
   ]
  },
  {
   "cell_type": "markdown",
   "metadata": {},
   "source": [
    "### 5-3-1. Irisデータの可視化\n",
    "Irisデータは4次元だったので，直接可視化することはできない．  \n",
    "4次元のデータをPCAによって圧縮して，2次元にし可視化する．"
   ]
  },
  {
   "cell_type": "code",
   "execution_count": 170,
   "metadata": {},
   "outputs": [
    {
     "name": "stdout",
     "output_type": "stream",
     "text": [
      "(150, 2)\n"
     ]
    }
   ],
   "source": [
    "from sklearn.decomposition import PCA\n",
    "from sklearn import datasets\n",
    "iris = datasets.load_iris()\n",
    "\n",
    "pca = PCA(n_components=2)\n",
    "X, y = iris.data, iris.target\n",
    "X_pca = pca.fit_transform(X) # 次元圧縮\n",
    "print(X_pca.shape)"
   ]
  },
  {
   "cell_type": "code",
   "execution_count": 171,
   "metadata": {},
   "outputs": [
    {
     "data": {
      "image/png": "[encoded data removed]",
      "text/plain": [
       "<Figure size 432x288 with 1 Axes>"
      ]
     },
     "metadata": {
      "needs_background": "light"
     },
     "output_type": "display_data"
    }
   ],
   "source": [
    "import matplotlib.pyplot as plt\n",
    "%matplotlib inline\n",
    "plt.scatter(X_pca[:, 0], X_pca[:, 1], c=y);"
   ]
  },
  {
   "cell_type": "code",
   "execution_count": 172,
   "metadata": {},
   "outputs": [],
   "source": [
    "# 次元圧縮したデータを用いて分類してみる\n",
    "X_train, X_test, y_train, y_test = train_test_split(X_pca, iris.target)\n",
    "clf = LinearSVC()\n",
    "clf.fit(X_train, y_train)\n",
    "y_pred2 = clf.predict(X_test)"
   ]
  },
  {
   "cell_type": "code",
   "execution_count": 66,
   "metadata": {},
   "outputs": [
    {
     "name": "stdout",
     "output_type": "stream",
     "text": [
      "              precision    recall  f1-score   support\n",
      "\n",
      "           0       1.00      1.00      1.00         9\n",
      "           1       1.00      0.87      0.93        15\n",
      "           2       0.88      1.00      0.93        14\n",
      "\n",
      "    accuracy                           0.95        38\n",
      "   macro avg       0.96      0.96      0.95        38\n",
      "weighted avg       0.95      0.95      0.95        38\n",
      "\n"
     ]
    }
   ],
   "source": [
    "from sklearn import metrics\n",
    "print(metrics.classification_report(y_true=y_test, y_pred=y_pred2)) # 予測結果の評価"
   ]
  },
  {
   "cell_type": "markdown",
   "metadata": {},
   "source": [
    "### 5-3-2. テキストに対する処理\n",
    "\n",
    "#### テキストから特徴量を設計\n",
    "テキストのカウントベクトルを作成し，TF-IDFを用いて特徴ベクトルを作る．  \n",
    "いくつかの設計ができるが，例題としてこの手法を用いる．\n",
    "\n",
    "ここでは，20newsgroupsというデータセットを利用する．"
   ]
  },
  {
   "cell_type": "code",
   "execution_count": 67,
   "metadata": {},
   "outputs": [
    {
     "name": "stderr",
     "output_type": "stream",
     "text": [
      "Downloading 20news dataset. This may take a few minutes.\n",
      "Downloading dataset from https://ndownloader.figshare.com/files/5975967 (14 MB)\n"
     ]
    }
   ],
   "source": [
    "from sklearn.datasets import fetch_20newsgroups\n",
    "categories = ['alt.atheism', 'soc.religion.christian','comp.graphics', 'sci.med']\n",
    "\n",
    "news_train = fetch_20newsgroups(subset='train', categories=categories, shuffle=True, random_state=42)"
   ]
  },
  {
   "cell_type": "code",
   "execution_count": 68,
   "metadata": {},
   "outputs": [],
   "source": [
    "from sklearn.feature_extraction.text import CountVectorizer, TfidfTransformer\n",
    "count_vec = CountVectorizer()\n",
    "X_train_counts = count_vec.fit_transform(news_train.data)"
   ]
  },
  {
   "cell_type": "code",
   "execution_count": 69,
   "metadata": {},
   "outputs": [],
   "source": [
    "tf_transformer = TfidfTransformer(use_idf=False).fit(X_train_counts)\n",
    "X_train_tf = tf_transformer.transform(X_train_counts)"
   ]
  },
  {
   "cell_type": "markdown",
   "metadata": {},
   "source": [
    "#### Naive Bayseによる学習"
   ]
  },
  {
   "cell_type": "code",
   "execution_count": 70,
   "metadata": {},
   "outputs": [],
   "source": [
    "from sklearn.naive_bayes import MultinomialNB\n",
    "clf = MultinomialNB().fit(X_train_tf, news_train.target)"
   ]
  },
  {
   "cell_type": "code",
   "execution_count": 71,
   "metadata": {},
   "outputs": [
    {
     "name": "stdout",
     "output_type": "stream",
     "text": [
      "God is love. -> soc.religion.christian\n",
      "I study about Computer Science. -> sci.med\n"
     ]
    }
   ],
   "source": [
    "docs = [\"God is love.\", \"I study about Computer Science.\"]\n",
    "X_test_counts = count_vec.transform(docs)\n",
    "X_test_tf = tf_transformer.transform(X_test_counts)\n",
    "preds = clf.predict(X_test_tf)\n",
    "for d, label_id in zip(docs, preds):\n",
    "    print(\"{} -> {}\".format(d, news_train.target_names[label_id]))"
   ]
  },
  {
   "cell_type": "markdown",
   "metadata": {},
   "source": [
    "このように文に対して，categoriesのうちのどれに対応するかを出力する学習器を作ることができた．  \n",
    "この技術を応用することで，ある文がポジティブかネガティブか，スパムか否かなど自然言語の文に対する分類問題を解くことができる．  \n",
    "\n",
    "### 5-3-3. Pipelineによる結合"
   ]
  },
  {
   "cell_type": "code",
   "execution_count": 72,
   "metadata": {},
   "outputs": [
    {
     "data": {
      "text/plain": [
       "Pipeline(memory=None,\n",
       "         steps=[('countvec',\n",
       "                 CountVectorizer(analyzer='word', binary=False,\n",
       "                                 decode_error='strict',\n",
       "                                 dtype=<class 'numpy.int64'>, encoding='utf-8',\n",
       "                                 input='content', lowercase=True, max_df=1.0,\n",
       "                                 max_features=None, min_df=1,\n",
       "                                 ngram_range=(1, 1), preprocessor=None,\n",
       "                                 stop_words=None, strip_accents=None,\n",
       "                                 token_pattern='(?u)\\\\b\\\\w\\\\w+\\\\b',\n",
       "                                 tokenizer=None, vocabulary=None)),\n",
       "                ('tfidf',\n",
       "                 TfidfTransformer(norm='l2', smooth_idf=True,\n",
       "                                  sublinear_tf=False, use_idf=True)),\n",
       "                ('clf',\n",
       "                 MultinomialNB(alpha=1.0, class_prior=None, fit_prior=True))],\n",
       "         verbose=False)"
      ]
     },
     "execution_count": 72,
     "metadata": {},
     "output_type": "execute_result"
    }
   ],
   "source": [
    "from sklearn.pipeline import Pipeline\n",
    "\n",
    "text_clf = Pipeline([('countvec', CountVectorizer()),\n",
    "                     ('tfidf', TfidfTransformer()),\n",
    "                     ('clf', MultinomialNB())])\n",
    "\n",
    "text_clf.fit(news_train.data, news_train.target)"
   ]
  },
  {
   "cell_type": "code",
   "execution_count": 73,
   "metadata": {},
   "outputs": [
    {
     "name": "stdout",
     "output_type": "stream",
     "text": [
      "God is love. -> soc.religion.christian\n",
      "I study about Computer Science. -> sci.med\n"
     ]
    }
   ],
   "source": [
    "for d, label_id in zip(docs, text_clf.predict(docs)):\n",
    "    print(\"{} -> {}\".format(d, news_train.target_names[label_id]))"
   ]
  },
  {
   "cell_type": "markdown",
   "metadata": {},
   "source": [
    "## 5.4 scikit-learn 準拠コーディング"
   ]
  },
  {
   "cell_type": "markdown",
   "metadata": {},
   "source": [
    "scikit-learn　準拠でコーディングするメリットは多数存在する.\n",
    "1. scikit-learn の用意するgrid search や cross validation を使える.\n",
    "2. 既存のscikit-learn の他手法と入れ替えが容易になる.\n",
    "3. 他の人にみてもらいやすい。使ってもらいやすい.  \n",
    "4. <span style=\"color: gray; \">本家のコミッターになれるかも？</span>\n",
    "\n",
    "詳しくは　[Developer’s Guide][1]　に書いてある.\n",
    "\n",
    "[1]:https://scikit-learn.org/stable/developers/#rolling-your-own-estimator"
   ]
  },
  {
   "cell_type": "markdown",
   "metadata": {},
   "source": [
    "scikit-learn ではモデルは以下の4つのタイプに分類されている.\n",
    "\n",
    "- Classifer\n",
    "    - Naive Bayes Classifer などの分類モデル\n",
    "- Clusterring\n",
    "    - K-mearns 等のクラスタリングモデル\n",
    "- Regressor\n",
    "    - Lasso, Ridge などの回帰モデル\n",
    "- Transformer\n",
    "    - PCA などの変数の変換モデル\n",
    "\n",
    "***準拠コーディングでやるべきことは、***\n",
    "\n",
    "- sklearn.base.BaseEstimatorを継承する\n",
    "- 上記タイプに応じたMixinを多重継承する  \n",
    "\n",
    "(予測モデルの場合)\n",
    "- fitメソッドを実装する\n",
    "    - initでパラメータをいじる操作を入れるとgrid searchが動かなくなる（後述）\n",
    "- predictメソッドを実装する\n",
    "    \n",
    "### 5-4-1.　リッジ回帰のscikit-learn 準拠コーディング\n",
    "\n",
    "試しに今までにコーディングした MyLinearRegression を改造し, scikit-learn 準拠にコーディングし直してみよう.  \n",
    "ついでにリッジ回帰の選択ができるようにもしてみよう."
   ]
  },
  {
   "cell_type": "code",
   "execution_count": 36,
   "metadata": {},
   "outputs": [],
   "source": [
    "from sklearn.base import BaseEstimator, RegressorMixin\n",
    "from sklearn.utils.validation import check_X_y, check_is_fitted, check_array"
   ]
  },
  {
   "cell_type": "markdown",
   "metadata": {},
   "source": [
    "回帰なので BaseEstimator と RegressorMixin の継承をする.  \n",
    "さらにリッジ回帰のオプションも追加するため, initにハイパーパラメータも追加する.  \n",
    "入力のshapeやdtypeを整えるために```check_X_y```や```check_array```を用いる(推奨)."
   ]
  },
  {
   "cell_type": "code",
   "execution_count": null,
   "metadata": {},
   "outputs": [],
   "source": [
    "class MyLinearRegression(BaseEstimator, RegressorMixin):\n",
    "    def __init__(self, lam = 0):\n",
    "        \"\"\"\n",
    "        Initialize a coefficient and an intercept.\n",
    "        \"\"\"\n",
    "        self.a = \n",
    "        self.b = \n",
    "        self.lam = lam\n",
    "        \n",
    "    def fit(self, X, y):\n",
    "        \"\"\"\n",
    "        X: array-like, shape (n_samples, n_features)\n",
    "        y: array, shape (n_samples,)\n",
    "        Estimate a coefficient and an intercept　from data.\n",
    "        \"\"\"\n",
    "        X, y = check_X_y(X, y, y_numeric=True)\n",
    "        if self.lam != 0:\n",
    "            pass\n",
    "        else:\n",
    "            pass\n",
    "        \n",
    "        self.a_ = \n",
    "        self.b_ = \n",
    "        return self\n",
    "    \n",
    "    def predict(self, X):\n",
    "        \"\"\"\n",
    "        Calc y from X\n",
    "        \"\"\"\n",
    "        check_is_fitted(self, \"a_\", \"b_\") # 学習済みかチェックする(推奨)\n",
    "        X = check_array(X)\n",
    "        return y"
   ]
  },
  {
   "cell_type": "markdown",
   "metadata": {},
   "source": [
    "***制約***\n",
    "\n",
    "- initで宣言する変数に全て初期値を定める\n",
    "- また引数の変数名とクラス内の変数名は一致させる\n",
    "- initにデータは与えない。データの加工なども(必要なら)fit内で行う\n",
    "- データから推定された値はアンダースコアをつけて区別する. 今回なら、a_と b_をfit関数内で新しく定義する.\n",
    "- アンダースコアで終わる変数をinit内では宣言しないこと.\n",
    "- init内で引数の確認, 加工をしてはいけない. 例えば```self.lam=2*lam```などをするとgrid searchができなくなる. [参考][1]\n",
    "\n",
    "> As model_selection.GridSearchCV uses set_params to apply parameter setting to estimators, it is essential that calling set_params has the same effect as setting parameters using the __init__ method. The easiest and recommended way to accomplish this is to not do any parameter validation in __init__. All logic behind estimator parameters, like translating string arguments into functions, should be done in fit.\n",
    "\n",
    "[github][2]のコードをお手本にしてみるのもいいだろう.\n",
    "\n",
    "[1]:https://scikit-learn.org/stable/developers/contributing.html#coding-guidelines\n",
    "[2]:https://github.com/scikit-learn/scikit-learn/blob/1495f69242646d239d89a5713982946b8ffcf9d9/sklearn/linear_model/base.py#L367\n",
    "\n",
    "### 5-4-2. scikit-learn 準拠かどうか確認\n",
    "\n",
    "自作のコードがちゃんとscikit-learn準拠かどうか確かめるには以下を実行する."
   ]
  },
  {
   "cell_type": "code",
   "execution_count": null,
   "metadata": {},
   "outputs": [],
   "source": [
    "from sklearn.utils.estimator_checks import check_estimator\n",
    "check_estimator(MyLinearRegression)"
   ]
  },
  {
   "cell_type": "markdown",
   "metadata": {},
   "source": [
    "問題があれば指摘してくれるはずだ. なお上記を必ずパスする必要はない.  \n",
    "\n",
    "#### Grid Search\n",
    "準拠モデルを作ったなら, ハイパーパラメータの決定をscikit-learnでやってみよう."
   ]
  },
  {
   "cell_type": "code",
   "execution_count": 59,
   "metadata": {},
   "outputs": [
    {
     "name": "stdout",
     "output_type": "stream",
     "text": [
      "決定係数:  0.24638055627114677\n",
      "lam:  1.670170079024566e-05\n"
     ]
    },
    {
     "data": {
      "image/png": "[encoded data removed]",
      "text/plain": [
       "<Figure size 864x288 with 2 Axes>"
      ]
     },
     "metadata": {
      "needs_background": "light"
     },
     "output_type": "display_data"
    }
   ],
   "source": [
    "import numpy as np\n",
    "from sklearn.model_selection import GridSearchCV\n",
    "\n",
    "np.random.seed(0)\n",
    "\n",
    "# Grid search\n",
    "parameters = {'lam':np.exp([i for i in range(-30,1)])}\n",
    "reg = GridSearchCV(MyLinearRegression(),parameters,cv=5)\n",
    "reg.fit(X_train,T_train)\n",
    "best = reg.best_estimator_\n",
    "\n",
    "# 決定係数\n",
    "print(\"決定係数: \", best.score(X_train, T_train)) # BaseEstimatorを継承しているため使える\n",
    "# lambda\n",
    "print(\"lam: \", best.lam)\n",
    "\n",
    "fig, axes = plt.subplots(ncols=2, figsize=(12, 4))\n",
    "\n",
    "axes[0].scatter(X_train, T_train, marker=\".\")\n",
    "axes[0].plot(X_train, best.predict(X_train), color=\"red\")\n",
    "axes[0].set_title(\"train\")\n",
    "\n",
    "axes[1].scatter(X_test, T_test, marker=\".\")\n",
    "axes[1].plot(X_test, best.predict(X_test), color=\"red\")\n",
    "axes[1].set_title(\"test\")\n",
    "fig.show()"
   ]
  },
  {
   "cell_type": "markdown",
   "metadata": {
    "collapsed": true
   },
   "source": [
    "## [練習問題](./../exercise/questions.md#chapter-5)"
   ]
  }
 ],
 "metadata": {
  "kernelspec": {
   "display_name": "Python 3",
   "language": "python",
   "name": "python3"
  },
  "language_info": {
   "codemirror_mode": {
    "name": "ipython",
    "version": 3
   },
   "file_extension": ".py",
   "mimetype": "text/x-python",
   "name": "python",
   "nbconvert_exporter": "python",
   "pygments_lexer": "ipython3",
   "version": "3.7.4"
  }
 },
 "nbformat": 4,
 "nbformat_minor": 2
}
