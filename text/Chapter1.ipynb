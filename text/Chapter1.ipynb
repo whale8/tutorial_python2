{
 "cells": [
  {
   "cell_type": "markdown",
   "metadata": {},
   "source": [
    "# Chapter 1: Pythonの基本編\n",
    "\n",
    "1. Pythonの概要\n",
    "    1. 対話モード\n",
    "    2. スクリプトの実行\n",
    "    3. コメントの書き方\n",
    "2. 変数\n",
    "    1. 代入と参照\n",
    "    2. 数値に対する演算\n",
    "3. 関数\n",
    "4. 標準入力\n",
    "5. ファイルの読み書き\n",
    "6. 練習問題"
   ]
  },
  {
   "cell_type": "markdown",
   "metadata": {},
   "source": [
    "## 1-1. Pythonの概要\n",
    "\n",
    "### 対話モード\n",
    "    コマンドライン上で`python`というコマンドを入力することで起動する．対話モードでは，プログラムを入力し，`Enter`キーを押してすぐに実行することができる．また，対話モードを終了するためには，`exit()`と入力し実行するか`Ctrl+D`を押す．\n",
    "### スクリプトの実行\n",
    "    ファイル名`filename.py`のようにファイルの拡張子`.py`をつけたスクリプトを用意する．\n",
    "    例題として，`test.py`を作る．\n",
    "\n",
    "```python\n",
    "print(\"Hello\")\n",
    "```\n",
    "\n",
    "    このスクリプトは以下のように実行し，結果を出力する．\n",
    "```text\n",
    "$ python test.py\n",
    "Hello\n",
    "```\n"
   ]
  },
  {
   "cell_type": "code",
   "execution_count": 1,
   "metadata": {},
   "outputs": [
    {
     "name": "stdout",
     "output_type": "stream",
     "text": [
      "Hello\n"
     ]
    }
   ],
   "source": [
    "print(\"Hello\")"
   ]
  },
  {
   "cell_type": "markdown",
   "metadata": {},
   "source": [
    "### コメント\n",
    "#### 1. 行頭に`#`をつける"
   ]
  },
  {
   "cell_type": "code",
   "execution_count": 2,
   "metadata": {},
   "outputs": [
    {
     "name": "stdout",
     "output_type": "stream",
     "text": [
      "ここは実行される\n",
      "これも実行される\n"
     ]
    }
   ],
   "source": [
    "print(\"ここは実行される\")\n",
    "#print(\"ここはコメントになる\")\n",
    "print(\"これも実行される\") "
   ]
  },
  {
   "cell_type": "markdown",
   "metadata": {},
   "source": [
    "#### 2. 文字列としてコメントを書く．\n",
    "    ソースコードの中に文字列を埋め込むことができる．\n",
    "    表示しない文字列を書いても，正常に実行することができる．"
   ]
  },
  {
   "cell_type": "code",
   "execution_count": 3,
   "metadata": {},
   "outputs": [
    {
     "name": "stdout",
     "output_type": "stream",
     "text": [
      "この文字列は表示される\n",
      "この文字列も表示される\n"
     ]
    }
   ],
   "source": [
    "print(\"この文字列は表示される\")\n",
    "\n",
    "\"\"\"\n",
    "複数行のコメントを記入することができる．\n",
    "例えば，どのようなスクリプトなのかをコメントとして書き込むことなどがある．\n",
    "\"\"\"\n",
    "\n",
    "\"一行のコメントは，このように書いたりもできる．\"\n",
    "print(\"この文字列も表示される\")"
   ]
  },
  {
   "cell_type": "markdown",
   "metadata": {},
   "source": [
    "## 1-2. 変数\n",
    "\n",
    "### 代入と参照\n",
    "- 代入：具体的な値を変数に入れること．\n",
    "- 参照：変数に代入した値を利用すること"
   ]
  },
  {
   "cell_type": "code",
   "execution_count": 4,
   "metadata": {},
   "outputs": [
    {
     "name": "stdout",
     "output_type": "stream",
     "text": [
      "6.9\n"
     ]
    }
   ],
   "source": [
    "x = 0.9 # 値を代入\n",
    "y = 1 + 5 # 演算結果を代入\n",
    "print(x+y)"
   ]
  },
  {
   "cell_type": "code",
   "execution_count": 5,
   "metadata": {},
   "outputs": [
    {
     "name": "stdout",
     "output_type": "stream",
     "text": [
      "Hello\n"
     ]
    }
   ],
   "source": [
    "message = \"Hello\" # 文字列も同様\n",
    "print(message)"
   ]
  },
  {
   "cell_type": "markdown",
   "metadata": {},
   "source": [
    "### 数値に対する演算\n",
    "四則演算と剰余計算"
   ]
  },
  {
   "cell_type": "code",
   "execution_count": 6,
   "metadata": {},
   "outputs": [
    {
     "name": "stdout",
     "output_type": "stream",
     "text": [
      "14 8 33 3.6666666666666665 2\n",
      "3\n",
      "1331\n"
     ]
    }
   ],
   "source": [
    "x = 11\n",
    "y = 3\n",
    "print(x+y, x-y, x*y, x/y, x%y) # 加算,減算,乗算,除算,剰余\n",
    "print(x//y) # 小数切り捨ての除算\n",
    "print(x**y) # xのy乗"
   ]
  },
  {
   "cell_type": "markdown",
   "metadata": {},
   "source": [
    "## 1-3. 関数\n",
    "関数とは，以下の3つのようなもの．\n",
    "- 定義した個数の引数をとる\n",
    "- なんらかの処理を行う\n",
    "- 返り値を返す\n",
    "\n",
    "### 関数定義\n",
    "\n",
    "```python\n",
    "def 関数名(引数名1, 引数名2, ...):\n",
    "    # 処理\n",
    "    return 返り値\n",
    "```"
   ]
  },
  {
   "cell_type": "code",
   "execution_count": 7,
   "metadata": {},
   "outputs": [],
   "source": [
    "# xとyの積を求める関数\n",
    "def product(x, y):\n",
    "    z = x * y\n",
    "    return z"
   ]
  },
  {
   "cell_type": "code",
   "execution_count": 8,
   "metadata": {},
   "outputs": [
    {
     "name": "stdout",
     "output_type": "stream",
     "text": [
      "200\n"
     ]
    }
   ],
   "source": [
    "result = product(10, 20) #product(x=10, y=20)としてもよい\n",
    "print(result)"
   ]
  },
  {
   "cell_type": "markdown",
   "metadata": {},
   "source": [
    "#### デフォルト引数\n",
    "    関数を呼び出す時に，代入しなくてもよい変数．\n",
    "    その変数には，関数の定義時に設定した値が代入され，関数を実行する．"
   ]
  },
  {
   "cell_type": "code",
   "execution_count": 11,
   "metadata": {},
   "outputs": [
    {
     "name": "stdout",
     "output_type": "stream",
     "text": [
      "6\n",
      "20\n"
     ]
    }
   ],
   "source": [
    "# yをデフォルト引数として，10を代入する\n",
    "def product(x, y=10):\n",
    "    return x * y\n",
    "\n",
    "x1 = 2\n",
    "y1 = 3\n",
    "print(product(x=x1, y=y1))\n",
    "print(product(x=x1))"
   ]
  },
  {
   "cell_type": "markdown",
   "metadata": {},
   "source": [
    "## 1-4. 標準入力\n"
   ]
  },
  {
   "cell_type": "code",
   "execution_count": 13,
   "metadata": {},
   "outputs": [
    {
     "name": "stdin",
     "output_type": "stream",
     "text": [
      "標準入力>> \n"
     ]
    },
    {
     "name": "stdout",
     "output_type": "stream",
     "text": [
      "入力された文字列: \n"
     ]
    }
   ],
   "source": [
    "text = input('標準入力>>')\n",
    "print(\"入力された文字列: \" + text)"
   ]
  },
  {
   "cell_type": "markdown",
   "metadata": {},
   "source": [
    "## 1-5. ファイルの読み書き\n",
    "\n",
    "### ファイルを読み込む"
   ]
  },
  {
   "cell_type": "code",
   "execution_count": 14,
   "metadata": {},
   "outputs": [
    {
     "name": "stdout",
     "output_type": "stream",
     "text": [
      "['Hello world\\n']\n"
     ]
    }
   ],
   "source": [
    "f = open('./data/file.txt', 'r') # \"file.txt\"というファイルを読み込みモードで開く\n",
    "result = f.readlines() # 複数行を文字列のリストとして読み込む\n",
    "f.close()\n",
    "print(result)"
   ]
  },
  {
   "cell_type": "markdown",
   "metadata": {},
   "source": [
    "### ファイル書き込み"
   ]
  },
  {
   "cell_type": "code",
   "execution_count": 15,
   "metadata": {},
   "outputs": [],
   "source": [
    "f = open('./data/file.txt', 'w') # 書き込みモードで開く\n",
    "f.write(\"Hello world\\n\") # 文字列を書き込む\n",
    "f.close()"
   ]
  },
  {
   "cell_type": "markdown",
   "metadata": {},
   "source": [
    "## 1-6. [練習問題](./../exercise/questions.md#chapter-1)\n",
    "一部次の章で扱う内容も含まれている．"
   ]
  },
  {
   "cell_type": "markdown",
   "metadata": {},
   "source": [
    "## 1-7. オブジェクトとクラス\n",
    "\n",
    "<font color=\"red\">以下は今すぐ読む必要はありませんが, 4章前後で帰ってきて読むことを勧めます. 5章は以下を理解した上で取り組んでください.</font>\n",
    "\n",
    "Pythonは**すべて**(ブール値, 整数, 浮動小数点数, 文字列, もっと大きなデータ構造, 関数, クラス)がオブジェクトとして実装されている.  \n",
    "オブジェクトは透明な箱みたいなものだ.   \n",
    "オブジェクトにはブール値や整数などのデータ型が存在し, データ型は性質を決める.   \n",
    ">たとえば内部のデータの値を変更できるか(ミュータブル)かできないか(イミュータブル)も決める.イミュータブルなオブジェクトは密閉された透明な箱のようなもので、値を参照はできるが書き換えられない.  \n",
    "\n",
    "オブジェクトにはデータ(変数, 属性)とコード(関数, メソッド)の両方が含まれている.  \n",
    "オブジェクトは具体的なものの一意なインスタンスを表している. 例えば値7を持つ整数オブジェクトは加算乗算などを実行可能なオブジェクトである.  \n",
    "つまりPythonには整数のクラスや文字列のクラスが存在し, ```7```や```8```, ```'cat'```,```'dog'```もそこに属している. ```'cat'```という文字列もPythonではオブジェクトであり, replace()などのメソッドを持っている."
   ]
  },
  {
   "cell_type": "code",
   "execution_count": 16,
   "metadata": {},
   "outputs": [
    {
     "name": "stdout",
     "output_type": "stream",
     "text": [
      "<class 'str'>\n",
      "car\n"
     ]
    }
   ],
   "source": [
    "cat = 'cat'\n",
    "print(type(cat)) # class str\n",
    "cat = cat.replace('t', 'r')\n",
    "print(cat)"
   ]
  },
  {
   "cell_type": "markdown",
   "metadata": {},
   "source": [
    "新しいオブジェクトを作るには, その内容を示すクラスを作らなくてはならない.  \n",
    "\n",
    "### 1-7-1. classによる定義\n",
    "\n",
    "前節でオブジェクトを透明な箱と表現したが, クラスはその箱を作る鋳型のようなものだ.(この説明はJavaで聞き飽きた人はcodeだけ確認してくれたらいい)  \n",
    "Stringは```'cat'```などの文字列オブジェクトを作るPythonの組み込みクラスだ.  \n",
    "\n",
    "\n",
    "人についての情報を表すオブジェクトを作りたいとしよう. "
   ]
  },
  {
   "cell_type": "code",
   "execution_count": 17,
   "metadata": {},
   "outputs": [],
   "source": [
    "class Person(object): # 3系からはobjectを継承する必要がなくなった. 言うまでもないからだろう.\n",
    "    pass              # 継承については後述.\n",
    "\n",
    "someone = Person() # クラスからオブジェクトを生成."
   ]
  },
  {
   "cell_type": "markdown",
   "metadata": {},
   "source": [
    "上記someoneオブジェクトは属するPersonクラスが空だから何もできない.  \n",
    "次はobjectを初期化する特殊メソッド```__init__```を使ってクラスを宣言してみよう."
   ]
  },
  {
   "cell_type": "code",
   "execution_count": 18,
   "metadata": {},
   "outputs": [
    {
     "name": "stdout",
     "output_type": "stream",
     "text": [
      "hogehoge\n",
      "<class '__main__.Person'>\n"
     ]
    }
   ],
   "source": [
    "class Person(object):\n",
    "    def __init__(self, name): # __init__の第一引数はself, selfは作られたオブジェクトそのものを参照する.\n",
    "        self.name = name\n",
    "        \n",
    "someone = Person(\"hogehoge\") # クラスからオブジェクトを生成.\n",
    "print(someone.name)\n",
    "print(type(someone)) # 自作クラス"
   ]
  },
  {
   "cell_type": "markdown",
   "metadata": {},
   "source": [
    "Personにメソッドを追加して必要なオブジェクトを作ろう."
   ]
  },
  {
   "cell_type": "code",
   "execution_count": 19,
   "metadata": {},
   "outputs": [
    {
     "name": "stdout",
     "output_type": "stream",
     "text": [
      "hogehoge\n"
     ]
    }
   ],
   "source": [
    "class Person(object):\n",
    "    def __init__(self, name): # __init__の第一引数はself, selfは作られたオブジェクトそのものを参照する.\n",
    "        self.name = name\n",
    "        \n",
    "    def says_name(self):\n",
    "        print(self.name)\n",
    "        \n",
    "someone = Person(\"hogehoge\") # クラスからオブジェクトを生成.\n",
    "someone.says_name()"
   ]
  },
  {
   "cell_type": "markdown",
   "metadata": {},
   "source": [
    "### 1-7-2. 継承\n",
    "\n",
    "新しくすべてを作っていては骨が折れるだろう. すでにあるクラスが必要なほぼすべてを持っているが, 少しだけ足りない, そんなときは継承を使おう.  \n",
    "使いたいクラスを指定し, 変更点のみを記述する."
   ]
  },
  {
   "cell_type": "code",
   "execution_count": 20,
   "metadata": {},
   "outputs": [
    {
     "name": "stdout",
     "output_type": "stream",
     "text": [
      "hogehoge\n"
     ]
    }
   ],
   "source": [
    "class Student(Person): # Personを継承\n",
    "    pass\n",
    "\n",
    "someone = Student(\"hogehoge\")\n",
    "someone.says_name()"
   ]
  },
  {
   "cell_type": "markdown",
   "metadata": {},
   "source": [
    "差分を書いていないため親クラスStudentと子クラスPersonに違いはない.\n",
    "\n",
    "#### メソッドのオーバーライド\n",
    "親クラスのメソッドを上書きしてみよう."
   ]
  },
  {
   "cell_type": "code",
   "execution_count": 21,
   "metadata": {},
   "outputs": [
    {
     "name": "stdout",
     "output_type": "stream",
     "text": [
      "My name is hogehoge. I'm a student enrolled in Kwansei Gakuin University.\n"
     ]
    }
   ],
   "source": [
    "class Student(Person): # Personを継承\n",
    "    def says_name(self):\n",
    "        print(f\"My name is {self.name}. I'm a student enrolled in Kwansei Gakuin University.\")\n",
    "\n",
    "someone = Student(\"hogehoge\")\n",
    "someone.says_name()"
   ]
  },
  {
   "cell_type": "markdown",
   "metadata": {},
   "source": [
    "#### メソッドの追加"
   ]
  },
  {
   "cell_type": "code",
   "execution_count": 22,
   "metadata": {},
   "outputs": [
    {
     "name": "stdout",
     "output_type": "stream",
     "text": [
      "My name is hogehoge. I'm a student enrolled in Kwansei Gakuin University.\n",
      "I am a 3-grade student.\n"
     ]
    }
   ],
   "source": [
    "class Student(Person): # Personを継承\n",
    "    def __init__(self, name, grade):\n",
    "        super().__init__(name)\n",
    "        self.grade = grade\n",
    "        \n",
    "    def says_name(self):\n",
    "        print(f\"My name is {self.name}. I'm a student enrolled in Kwansei Gakuin University.\")\n",
    "\n",
    "    def says_grade(self):\n",
    "        print(f\"I am a {self.grade}-grade student.\")\n",
    "        \n",
    "someone = Student(\"hogehoge\", 3)\n",
    "someone.says_name()\n",
    "someone.says_grade()"
   ]
  },
  {
   "cell_type": "markdown",
   "metadata": {},
   "source": [
    "子クラスで```__init___```を定義するということは親クラスの```__init___```は呼ばれなくなってしまう.  \n",
    "親クラスの```__init___```を呼び出すには明示的に```super().__init__()```で呼び出す必要がある.  \n",
    "次のように書けばいいと思うかもしれない."
   ]
  },
  {
   "cell_type": "code",
   "execution_count": 23,
   "metadata": {},
   "outputs": [],
   "source": [
    "class Student(Person): # Personを継承\n",
    "    def __init__(self, name, grade):\n",
    "        self.name = name\n",
    "        self.grade = grade"
   ]
  },
  {
   "cell_type": "markdown",
   "metadata": {},
   "source": [
    "確かに現状同じ結果になるだろう. しかし未来にPersonが使用を変更すればStudentはPersonを継承しているにもかかわらずその挙動に齟齬が生まれる可能性がある. 求める挙動に応じて、使い分けよう."
   ]
  },
  {
   "cell_type": "markdown",
   "metadata": {},
   "source": [
    "#### クラスかモジュールか\n",
    "一概に言えないが, クラスを使うべきなのは,\n",
    "- 動作(メソッド)は同じだが, 内部状態が異なるインスタンスを複数つくりたいとき.\n",
    "- 継承を必要とするとき.\n",
    "\n",
    "そうでないときはモジュール, もしくはこれから学ぶより単純な組み込みデータ型(list, dict)を用いよう."
   ]
  },
  {
   "cell_type": "code",
   "execution_count": null,
   "metadata": {},
   "outputs": [],
   "source": []
  }
 ],
 "metadata": {
  "kernelspec": {
   "display_name": "Python 3",
   "language": "python",
   "name": "python3"
  },
  "language_info": {
   "codemirror_mode": {
    "name": "ipython",
    "version": 3
   },
   "file_extension": ".py",
   "mimetype": "text/x-python",
   "name": "python",
   "nbconvert_exporter": "python",
   "pygments_lexer": "ipython3",
   "version": "3.7.7"
  }
 },
 "nbformat": 4,
 "nbformat_minor": 4
}
